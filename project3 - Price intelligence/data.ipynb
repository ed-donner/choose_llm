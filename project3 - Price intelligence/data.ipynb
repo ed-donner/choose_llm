{
 "cells": [
  {
   "cell_type": "markdown",
   "id": "46d90d45-2d19-49c7-b853-6809dc417ea7",
   "metadata": {},
   "source": [
    "## Dataset Curator Amazon Appliance project\n",
    "\n",
    "Please now head over to Google Colab:\n",
    "\n",
    "Data curation: https://colab.research.google.com/drive/1wvAB7izqBRf6i6DuLJfy8xjKFvhpRJ_r?usp=sharing\n",
    "\n",
    "Training: https://colab.research.google.com/drive/1wvAB7izqBRf6i6DuLJfy8xjKFvhpRJ_r?usp=sharing\n",
    "\n",
    "Inference: https://colab.research.google.com/drive/1n8gg7gtF5tPmQcLNbe_yKDADOI6r6a3c?usp=sharing\n",
    "\n",
    "View in Weights & Biases: https://wandb.ai/ed-donner/home"
   ]
  },
  {
   "cell_type": "code",
   "execution_count": null,
   "id": "8dd16f72-3ba9-4c0c-9eac-4f6773c4f1a6",
   "metadata": {},
   "outputs": [],
   "source": []
  }
 ],
 "metadata": {
  "kernelspec": {
   "display_name": "Python 3 (ipykernel)",
   "language": "python",
   "name": "python3"
  },
  "language_info": {
   "codemirror_mode": {
    "name": "ipython",
    "version": 3
   },
   "file_extension": ".py",
   "mimetype": "text/x-python",
   "name": "python",
   "nbconvert_exporter": "python",
   "pygments_lexer": "ipython3",
   "version": "3.11.13"
  }
 },
 "nbformat": 4,
 "nbformat_minor": 5
}
